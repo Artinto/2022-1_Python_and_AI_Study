{
  "nbformat": 4,
  "nbformat_minor": 0,
  "metadata": {
    "colab": {
      "provenance": [],
      "collapsed_sections": []
    },
    "kernelspec": {
      "name": "python3",
      "display_name": "Python 3"
    },
    "language_info": {
      "name": "python"
    }
  },
  "cells": [
    {
      "cell_type": "code",
      "execution_count": null,
      "metadata": {
        "id": "vcdXJvPGm05d"
      },
      "outputs": [],
      "source": [
        "''' import os\n",
        "import numpy as np\n",
        "from keras.utils import np_utils\n",
        "from keras.models import Sequential\n",
        "from keras.layers import Dense, Activation\n",
        "from keras.layers import Conv2D, MaxPooling2D, Flatten\n",
        "from google.colab.patches import cv2_imshow  '''"
      ]
    },
    {
      "cell_type": "code",
      "source": [
        "from google.colab import drive\n",
        "drive.mount('/content/drive')"
      ],
      "metadata": {
        "colab": {
          "base_uri": "https://localhost:8080/"
        },
        "id": "QF9m1nBH-Ln9",
        "outputId": "1d5fffb0-d3e1-4c04-a107-b5d3a076f802"
      },
      "execution_count": 2,
      "outputs": [
        {
          "output_type": "stream",
          "name": "stdout",
          "text": [
            "Mounted at /content/drive\n"
          ]
        }
      ]
    },
    {
      "cell_type": "code",
      "source": [
        "!unzip -qq \"/content/drive/MyDrive/custom_dataset.zip\"  # \"\"로 경로 복사해서 zip 압축 풀기"
      ],
      "metadata": {
        "id": "vVTbH-80-erh"
      },
      "execution_count": null,
      "outputs": []
    },
    {
      "cell_type": "code",
      "source": [
        "import os\n",
        "base_dir = '/content/custom_dataset' # 파일 경로 지정\n",
        "train_dir = os.path.join(base_dir, 'train')\n",
        "test_dir = os.path.join(base_dir, 'test')\n",
        "\n",
        "train_O_dir = os.path.join(train_dir, '0')\n",
        "train_B_dir = os.path.join(train_dir, '1')\n",
        "train_J_dir = os.path.join(train_dir, '2')\n",
        "train_M_dir = os.path.join(train_dir, '3')\n",
        "\n",
        "test_O_dir = os.path.join(test_dir, '0')\n",
        "test_B_dir = os.path.join(test_dir, '1')\n",
        "test_J_dir = os.path.join(test_dir, '2')\n",
        "test_M_dir = os.path.join(test_dir, '3')\n",
        "\n",
        "print(len(os.listdir(train_O_dir)))\n",
        "print(len(os.listdir(train_B_dir)))\n",
        "print(len(os.listdir(train_J_dir)))\n",
        "print(len(os.listdir(train_M_dir)))\n",
        "print(len(os.listdir(test_O_dir)))\n",
        "print(len(os.listdir(test_B_dir)))\n",
        "print(len(os.listdir(test_J_dir)))\n",
        "print(len(os.listdir(test_M_dir)))"
      ],
      "metadata": {
        "id": "QGWWX4pO8aJP",
        "colab": {
          "base_uri": "https://localhost:8080/"
        },
        "outputId": "87066b4b-610a-4bf3-b03e-c590ffdfefb7"
      },
      "execution_count": 8,
      "outputs": [
        {
          "output_type": "stream",
          "name": "stdout",
          "text": [
            "487\n",
            "511\n",
            "475\n",
            "476\n",
            "25\n",
            "25\n",
            "25\n",
            "25\n"
          ]
        }
      ]
    },
    {
      "cell_type": "code",
      "source": [
        "from keras import layers\n",
        "from keras import models\n",
        "\n",
        "model = models.Sequential()\n",
        "model.add(layers.Conv2D(32, (3, 3), activation='relu',\n",
        "                        input_shape=(150, 150, 3)))\n",
        "model.add(layers.MaxPooling2D((2, 2)))\n",
        "model.add(layers.Conv2D(64, (3, 3), activation='relu'))\n",
        "model.add(layers.MaxPooling2D((2, 2)))\n",
        "model.add(layers.Conv2D(128, (3, 3), activation='relu'))\n",
        "model.add(layers.MaxPooling2D((2, 2)))\n",
        "model.add(layers.Conv2D(128, (3, 3), activation='relu'))\n",
        "model.add(layers.MaxPooling2D((2, 2)))\n",
        "model.add(layers.Flatten())\n",
        "model.add(layers.Dense(512, activation='relu'))\n",
        "model.add(layers.Dense(1, activation='sigmoid'))\n",
        "print(model.summary())"
      ],
      "metadata": {
        "colab": {
          "base_uri": "https://localhost:8080/"
        },
        "id": "V9lsRjVXHn7M",
        "outputId": "e3dc3ea5-3e86-4e17-f0a7-f634c7b483c2"
      },
      "execution_count": null,
      "outputs": [
        {
          "output_type": "stream",
          "name": "stdout",
          "text": [
            "Model: \"sequential_2\"\n",
            "_________________________________________________________________\n",
            " Layer (type)                Output Shape              Param #   \n",
            "=================================================================\n",
            " conv2d_8 (Conv2D)           (None, 148, 148, 32)      896       \n",
            "                                                                 \n",
            " max_pooling2d_8 (MaxPooling  (None, 74, 74, 32)       0         \n",
            " 2D)                                                             \n",
            "                                                                 \n",
            " conv2d_9 (Conv2D)           (None, 72, 72, 64)        18496     \n",
            "                                                                 \n",
            " max_pooling2d_9 (MaxPooling  (None, 36, 36, 64)       0         \n",
            " 2D)                                                             \n",
            "                                                                 \n",
            " conv2d_10 (Conv2D)          (None, 34, 34, 128)       73856     \n",
            "                                                                 \n",
            " max_pooling2d_10 (MaxPoolin  (None, 17, 17, 128)      0         \n",
            " g2D)                                                            \n",
            "                                                                 \n",
            " conv2d_11 (Conv2D)          (None, 15, 15, 128)       147584    \n",
            "                                                                 \n",
            " max_pooling2d_11 (MaxPoolin  (None, 7, 7, 128)        0         \n",
            " g2D)                                                            \n",
            "                                                                 \n",
            " flatten_2 (Flatten)         (None, 6272)              0         \n",
            "                                                                 \n",
            " dense_4 (Dense)             (None, 512)               3211776   \n",
            "                                                                 \n",
            " dense_5 (Dense)             (None, 1)                 513       \n",
            "                                                                 \n",
            "=================================================================\n",
            "Total params: 3,453,121\n",
            "Trainable params: 3,453,121\n",
            "Non-trainable params: 0\n",
            "_________________________________________________________________\n",
            "None\n"
          ]
        }
      ]
    },
    {
      "cell_type": "code",
      "source": [
        "from tensorflow.keras import optimizers\n",
        "\n",
        "model.compile(loss='binary_crossentropy',\n",
        "              optimizer=optimizers.RMSprop(lr=1e-4),\n",
        "              metrics=['acc'])"
      ],
      "metadata": {
        "colab": {
          "base_uri": "https://localhost:8080/"
        },
        "id": "Mq4rKmh1JBx9",
        "outputId": "3e26a27a-b85d-40a4-c9da-270315c14a30"
      },
      "execution_count": null,
      "outputs": [
        {
          "output_type": "stream",
          "name": "stderr",
          "text": [
            "/usr/local/lib/python3.7/dist-packages/keras/optimizer_v2/rmsprop.py:130: UserWarning: The `lr` argument is deprecated, use `learning_rate` instead.\n",
            "  super(RMSprop, self).__init__(name, **kwargs)\n"
          ]
        }
      ]
    },
    {
      "cell_type": "code",
      "source": [
        "from keras.preprocessing.image import ImageDataGenerator\n",
        "\n",
        "# 모든 이미지를 1/255로 스케일을 조정\n",
        "train_datagen = ImageDataGenerator(rescale=1./255)\n",
        "test_datagen = ImageDataGenerator(rescale=1./255)\n",
        "\n",
        "train_generator = train_datagen.flow_from_directory(\n",
        "        # 타깃 디렉터리\n",
        "        train_dir,\n",
        "        # 모든 이미지를 150 × 150 크기로\n",
        "        target_size=(150, 150),\n",
        "        batch_size=20,\n",
        "        # binary_crossentropy 손실을 사용하기 때문에 이진 레이블이 필요하다\n",
        "        class_mode='binary')\n",
        "\n",
        "validation_generator = test_datagen.flow_from_directory(\n",
        "        test_dir,\n",
        "        target_size=(150, 150),\n",
        "        batch_size=20,\n",
        "        class_mode='binary')"
      ],
      "metadata": {
        "colab": {
          "base_uri": "https://localhost:8080/"
        },
        "id": "qwOZZmtqKPP-",
        "outputId": "b3c994de-1e37-4a98-a3fc-78e9da302655"
      },
      "execution_count": null,
      "outputs": [
        {
          "output_type": "stream",
          "name": "stdout",
          "text": [
            "Found 1949 images belonging to 4 classes.\n",
            "Found 100 images belonging to 4 classes.\n"
          ]
        }
      ]
    },
    {
      "cell_type": "code",
      "source": [
        "for data_batch, labels_batch in train_generator:\n",
        "    print('배치 데이터 크기:', data_batch.shape)\n",
        "    print('배치 레이블 크기:', labels_batch.shape)\n",
        "    break"
      ],
      "metadata": {
        "colab": {
          "base_uri": "https://localhost:8080/"
        },
        "id": "xeUosRksKh8Q",
        "outputId": "040a2864-e0d4-4df8-b833-1a91566e1695"
      },
      "execution_count": null,
      "outputs": [
        {
          "output_type": "stream",
          "name": "stdout",
          "text": [
            "배치 데이터 크기: (20, 150, 150, 3)\n",
            "배치 레이블 크기: (20,)\n"
          ]
        }
      ]
    },
    {
      "cell_type": "code",
      "source": [
        "history = model.fit_generator(\n",
        "      train_generator,\n",
        "      steps_per_epoch=50,\n",
        "      epochs=10,\n",
        "      validation_data=validation_generator,\n",
        "      validation_steps=5)"
      ],
      "metadata": {
        "colab": {
          "base_uri": "https://localhost:8080/"
        },
        "id": "0-Bfez6TMLT_",
        "outputId": "2ead9ce0-114d-40c7-e4e2-903ecaa05c24"
      },
      "execution_count": null,
      "outputs": [
        {
          "output_type": "stream",
          "name": "stderr",
          "text": [
            "/usr/local/lib/python3.7/dist-packages/ipykernel_launcher.py:6: UserWarning: `Model.fit_generator` is deprecated and will be removed in a future version. Please use `Model.fit`, which supports generators.\n",
            "  \n"
          ]
        },
        {
          "output_type": "stream",
          "name": "stdout",
          "text": [
            "Epoch 1/10\n",
            "50/50 [==============================] - 61s 1s/step - loss: -218889.9219 - acc: 0.2500 - val_loss: -421581.1875 - val_acc: 0.2500\n",
            "Epoch 2/10\n",
            "50/50 [==============================] - 57s 1s/step - loss: -802875.7500 - acc: 0.2720 - val_loss: -1373514.7500 - val_acc: 0.2500\n",
            "Epoch 3/10\n",
            "50/50 [==============================] - 59s 1s/step - loss: -2554340.7500 - acc: 0.2690 - val_loss: -3685649.2500 - val_acc: 0.2500\n",
            "Epoch 4/10\n",
            "50/50 [==============================] - 57s 1s/step - loss: -5892055.0000 - acc: 0.2660 - val_loss: -8311253.0000 - val_acc: 0.2500\n",
            "Epoch 5/10\n",
            "50/50 [==============================] - 57s 1s/step - loss: -11531215.0000 - acc: 0.2720 - val_loss: -16834538.0000 - val_acc: 0.2500\n",
            "Epoch 6/10\n",
            "50/50 [==============================] - 56s 1s/step - loss: -22826690.0000 - acc: 0.2720 - val_loss: -32495076.0000 - val_acc: 0.2500\n",
            "Epoch 7/10\n",
            "50/50 [==============================] - 57s 1s/step - loss: -40265928.0000 - acc: 0.2720 - val_loss: -55417708.0000 - val_acc: 0.2500\n",
            "Epoch 8/10\n",
            "50/50 [==============================] - 58s 1s/step - loss: -72060368.0000 - acc: 0.2477 - val_loss: -90167768.0000 - val_acc: 0.2500\n",
            "Epoch 9/10\n",
            "50/50 [==============================] - 56s 1s/step - loss: -110829312.0000 - acc: 0.2760 - val_loss: -143109680.0000 - val_acc: 0.2500\n",
            "Epoch 10/10\n",
            "50/50 [==============================] - 56s 1s/step - loss: -172043088.0000 - acc: 0.2730 - val_loss: -215091072.0000 - val_acc: 0.2500\n"
          ]
        }
      ]
    }
  ]
}